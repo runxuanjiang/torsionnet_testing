{
 "metadata": {
  "language_info": {
   "codemirror_mode": {
    "name": "ipython",
    "version": 3
   },
   "file_extension": ".py",
   "mimetype": "text/x-python",
   "name": "python",
   "nbconvert_exporter": "python",
   "pygments_lexer": "ipython3",
   "version": "3.7.9"
  },
  "orig_nbformat": 2,
  "kernelspec": {
   "name": "python379jvsc74a57bd0448f1cff2c1a6358527c186aa65f40ee81f4f02b82976e4971c95d3b3e5e62de",
   "display_name": "Python 3.7.9 64-bit ('my-rdkit-env': conda)"
  },
  "metadata": {
   "interpreter": {
    "hash": "448f1cff2c1a6358527c186aa65f40ee81f4f02b82976e4971c95d3b3e5e62de"
   }
  }
 },
 "nbformat": 4,
 "nbformat_minor": 2,
 "cells": [
  {
   "cell_type": "code",
   "execution_count": 1,
   "metadata": {},
   "outputs": [],
   "source": [
    "from torsionnet.generate_molecule.lignin.generate_lignin import generate_lignin\n",
    "from rdkit import Chem\n",
    "mol = generate_lignin(4)"
   ]
  },
  {
   "cell_type": "code",
   "execution_count": 2,
   "metadata": {},
   "outputs": [
    {
     "output_type": "stream",
     "name": "stderr",
     "text": [
      "/home/runxuanj/anaconda3/envs/my-rdkit-env/lib/python3.7/site-packages/torch/cuda/__init__.py:52: UserWarning: CUDA initialization: Found no NVIDIA driver on your system. Please check that you have an NVIDIA GPU and installed a driver from http://www.nvidia.com/Download/index.aspx (Triggered internally at  /opt/conda/conda-bld/pytorch_1607370156314/work/c10/cuda/CUDAFunctions.cpp:100.)\n",
      "  return torch._C._cuda_getDeviceCount() > 0\n",
      "216.3319205893284 1.0030754112775815\n"
     ]
    }
   ],
   "source": [
    "from torsionnet.utils import calculate_normalizers\n",
    "E0, Z0 = calculate_normalizers(mol)\n",
    "print(E0, Z0)\n"
   ]
  },
  {
   "cell_type": "code",
   "execution_count": 3,
   "metadata": {},
   "outputs": [
    {
     "output_type": "stream",
     "name": "stdout",
     "text": [
      "\n     RDKit          3D\n\n 95101  0  0  0  0  0  0  0  0999 V2000\n    0.8368    2.8581    3.4818 C   0  0  0  0  0  0  0  0  0  0  0  0\n    0.1741    1.6812    3.0916 C   0  0  0  0  0  0  0  0  0  0  0  0\n   -0.1682    0.6753    4.0141 C   0  0  0  0  0  0  0  0  0  0  0  0\n    0.1855    0.8334    5.3583 C   0  0  0  0  0  0  0  0  0  0  0  0\n    0.8563    1.9991    5.7492 C   0  0  0  0  0  0  0  0  0  0  0  0\n    1.1690    3.0040    4.8324 C   0  0  0  0  0  0  0  0  0  0  0  0\n    1.2490    3.9274    2.4887 C   0  0  0  0  0  0  0  0  0  0  0  0\n    2.4369    3.6510    1.5597 C   0  0  0  0  0  0  0  0  0  0  0  0\n    3.1864    2.3431    1.7230 C   0  0  0  0  0  0  0  0  0  0  0  0\n    2.6474    1.4586    0.7379 O   0  0  0  0  0  0  0  0  0  0  0  0\n   -0.7546   -0.4903    3.5967 O   0  0  0  0  0  0  0  0  0  0  0  0\n   -1.7596   -0.3356    2.5917 C   0  0  0  0  0  0  0  0  0  0  0  0\n    0.0147   -0.0370    6.3957 O   0  0  0  0  0  0  0  0  0  0  0  0\n    1.4206    1.5701   -1.3895 C   0  0  0  0  0  0  0  0  0  0  0  0\n    0.9047    0.2812   -1.1145 C   0  0  0  0  0  0  0  0  0  0  0  0\n    0.0422   -0.3654   -2.0046 C   0  0  0  0  0  0  0  0  0  0  0  0\n   -0.2961    0.3102   -3.1687 C   0  0  0  0  0  0  0  0  0  0  0  0\n    0.2013    1.5691   -3.4601 C   0  0  0  0  0  0  0  0  0  0  0  0\n    1.0697    2.2094   -2.5906 C   0  0  0  0  0  0  0  0  0  0  0  0\n    2.3434    2.2657   -0.4141 C   0  0  0  0  0  0  0  0  0  0  0  0\n    1.8522    3.5964    0.1579 C   0  0  0  0  0  0  0  0  0  0  0  0\n    0.3521    3.7467    0.3514 C   0  0  0  0  0  0  0  0  0  0  0  0\n    0.1399    4.2965    1.6528 O   0  0  0  0  0  0  0  0  0  0  0  0\n   -0.5155   -1.5966   -1.8192 O   0  0  0  0  0  0  0  0  0  0  0  0\n    0.0102   -2.3941   -0.7682 C   0  0  0  0  0  0  0  0  0  0  0  0\n   -1.1399   -0.1837   -4.1313 O   0  0  0  0  0  0  0  0  0  0  0  0\n   -1.6084   -3.4711    6.1476 C   0  0  0  0  0  0  0  0  0  0  0  0\n   -2.3686   -3.7573    5.0140 C   0  0  0  0  0  0  0  0  0  0  0  0\n   -3.3991   -4.7166    5.0625 C   0  0  0  0  0  0  0  0  0  0  0  0\n   -3.7558   -5.4219    6.2424 C   0  0  0  0  0  0  0  0  0  0  0  0\n   -2.9473   -5.1087    7.3513 C   0  0  0  0  0  0  0  0  0  0  0  0\n   -1.9082   -4.1671    7.3205 C   0  0  0  0  0  0  0  0  0  0  0  0\n   -0.5299   -2.4085    6.1106 C   0  0  0  0  0  0  0  0  0  0  0  0\n   -1.0731   -0.9806    6.3904 C   0  0  0  0  0  0  0  0  0  0  0  0\n   -1.8223   -0.8201    7.7328 C   0  0  0  0  0  0  0  0  0  0  0  0\n   -1.0522   -1.1586    8.8849 O   0  0  0  0  0  0  0  0  0  0  0  0\n   -4.0960   -4.8803    3.8789 O   0  0  0  0  0  0  0  0  0  0  0  0\n   -3.7544   -6.1288    3.2792 C   0  0  0  0  0  0  0  0  0  0  0  0\n   -4.7130   -6.2641    6.3489 O   0  0  0  0  0  1  0  0  0  0  0  0\n   -0.6778    0.2456   -6.5087 C   0  0  0  0  0  0  0  0  0  0  0  0\n    0.2697   -0.7838   -6.5679 C   0  0  0  0  0  0  0  0  0  0  0  0\n    0.7738   -1.2504   -7.7998 C   0  0  0  0  0  0  0  0  0  0  0  0\n    0.3490   -0.6928   -9.0435 C   0  0  0  0  0  0  0  0  0  0  0  0\n   -0.6105    0.3365   -8.9278 C   0  0  0  0  0  0  0  0  0  0  0  0\n   -1.1147    0.8006   -7.7080 C   0  0  0  0  0  0  0  0  0  0  0  0\n   -1.1739    0.8102   -5.1914 C   0  0  0  0  0  0  0  0  0  0  0  0\n   -0.3480    2.0474   -4.7605 C   0  0  0  0  0  0  0  0  0  0  0  0\n   -1.1983    3.3164   -4.6241 C   0  0  0  0  0  0  0  0  0  0  0  0\n   -2.3544    3.1565   -3.8015 O   0  0  0  0  0  0  0  0  0  0  0  0\n    1.7080   -2.2699   -7.8833 O   0  0  0  0  0  0  0  0  0  0  0  0\n    2.1994   -2.8236   -6.6787 C   0  0  0  0  0  0  0  0  0  0  0  0\n    0.7649   -1.0544  -10.1988 O   0  0  0  0  0  1  0  0  0  0  0  0\n    0.5616   -2.7786    6.9665 O   0  0  0  0  0  0  0  0  0  0  0  0\n   -0.0397    1.5267    2.0418 H   0  0  0  0  0  0  0  0  0  0  0  0\n    1.1421    2.1176    6.7926 H   0  0  0  0  0  0  0  0  0  0  0  0\n    1.6903    3.8901    5.1863 H   0  0  0  0  0  0  0  0  0  0  0  0\n    1.4762    4.8340    3.0608 H   0  0  0  0  0  0  0  0  0  0  0  0\n    3.1470    4.4834    1.6507 H   0  0  0  0  0  0  0  0  0  0  0  0\n    4.2479    2.4857    1.4876 H   0  0  0  0  0  0  0  0  0  0  0  0\n    3.1363    1.8863    2.7131 H   0  0  0  0  0  0  0  0  0  0  0  0\n   -2.4143    0.5160    2.8103 H   0  0  0  0  0  0  0  0  0  0  0  0\n   -1.3014   -0.2352    1.6021 H   0  0  0  0  0  0  0  0  0  0  0  0\n   -2.3760   -1.2397    2.5873 H   0  0  0  0  0  0  0  0  0  0  0  0\n    1.1891   -0.2007   -0.1840 H   0  0  0  0  0  0  0  0  0  0  0  0\n    1.4637    3.1899   -2.8411 H   0  0  0  0  0  0  0  0  0  0  0  0\n    3.3010    2.4192   -0.9284 H   0  0  0  0  0  0  0  0  0  0  0  0\n    2.2084    4.4250   -0.4627 H   0  0  0  0  0  0  0  0  0  0  0  0\n   -0.2015    2.8076    0.2823 H   0  0  0  0  0  0  0  0  0  0  0  0\n   -0.0799    4.4292   -0.3870 H   0  0  0  0  0  0  0  0  0  0  0  0\n   -0.2375   -1.9690    0.2094 H   0  0  0  0  0  0  0  0  0  0  0  0\n    1.0909   -2.5352   -0.8733 H   0  0  0  0  0  0  0  0  0  0  0  0\n   -0.4654   -3.3771   -0.8299 H   0  0  0  0  0  0  0  0  0  0  0  0\n   -2.1875   -3.2389    4.0780 H   0  0  0  0  0  0  0  0  0  0  0  0\n   -3.1562   -5.6158    8.2924 H   0  0  0  0  0  0  0  0  0  0  0  0\n   -1.3513   -3.9783    8.2341 H   0  0  0  0  0  0  0  0  0  0  0  0\n   -0.0793   -2.4150    5.1138 H   0  0  0  0  0  0  0  0  0  0  0  0\n   -1.8221   -0.7136    5.6360 H   0  0  0  0  0  0  0  0  0  0  0  0\n   -2.1209    0.2266    7.8570 H   0  0  0  0  0  0  0  0  0  0  0  0\n   -2.7392   -1.4198    7.7353 H   0  0  0  0  0  0  0  0  0  0  0  0\n   -1.6699   -1.5664    9.5167 H   0  0  0  0  0  0  0  0  0  0  0  0\n   -3.7374   -6.9774    3.9674 H   0  0  0  0  0  0  0  0  0  0  0  0\n   -4.4967   -6.3433    2.5061 H   0  0  0  0  0  0  0  0  0  0  0  0\n   -2.7761   -6.0470    2.7858 H   0  0  0  0  0  0  0  0  0  0  0  0\n    0.6164   -1.2131   -5.6347 H   0  0  0  0  0  0  0  0  0  0  0  0\n   -0.9710    0.7995   -9.8461 H   0  0  0  0  0  0  0  0  0  0  0  0\n   -1.8460    1.6027   -7.7191 H   0  0  0  0  0  0  0  0  0  0  0  0\n   -2.2346    1.0595   -5.3209 H   0  0  0  0  0  0  0  0  0  0  0  0\n    0.4784    2.2515   -5.4523 H   0  0  0  0  0  0  0  0  0  0  0  0\n   -1.5484    3.6378   -5.6121 H   0  0  0  0  0  0  0  0  0  0  0  0\n   -0.6091    4.1358   -4.2003 H   0  0  0  0  0  0  0  0  0  0  0  0\n   -2.1685    2.4671   -3.1349 H   0  0  0  0  0  0  0  0  0  0  0  0\n    2.7133   -2.0723   -6.0709 H   0  0  0  0  0  0  0  0  0  0  0  0\n    1.4012   -3.3172   -6.1136 H   0  0  0  0  0  0  0  0  0  0  0  0\n    2.9381   -3.5862   -6.9422 H   0  0  0  0  0  0  0  0  0  0  0  0\n    0.6423   -3.7439    6.8953 H   0  0  0  0  0  0  0  0  0  0  0  0\n  1  2  2  0\n  2  3  1  0\n  3  4  2  0\n  4  5  1  0\n  5  6  2  0\n  6  1  1  0\n  1  7  1  0\n  7  8  1  0\n  8  9  1  0\n  9 10  1  0\n  3 11  1  0\n 11 12  1  0\n  4 13  1  0\n 14 15  2  0\n 15 16  1  0\n 16 17  2  0\n 17 18  1  0\n 18 19  2  0\n 19 14  1  0\n 14 20  1  0\n 20 21  1  0\n 21 22  1  0\n 22 23  1  0\n 16 24  1  0\n 24 25  1  0\n 17 26  1  0\n 27 28  2  0\n 28 29  1  0\n 29 30  2  0\n 30 31  1  0\n 31 32  2  0\n 32 27  1  0\n 27 33  1  0\n 33 34  1  0\n 34 35  1  0\n 35 36  1  0\n 29 37  1  0\n 37 38  1  0\n 30 39  1  0\n 40 41  2  0\n 41 42  1  0\n 42 43  2  0\n 43 44  1  0\n 44 45  2  0\n 45 40  1  0\n 40 46  1  0\n 46 47  1  0\n 47 48  1  0\n 48 49  1  0\n 42 50  1  0\n 50 51  1  0\n 43 52  1  0\n  8 21  1  0\n  7 23  1  0\n 20 10  1  0\n 13 34  1  0\n 33 53  1  0\n 47 18  1  0\n 46 26  1  0\n  2 54  1  0\n  5 55  1  0\n  6 56  1  0\n  7 57  1  0\n  8 58  1  0\n  9 59  1  0\n  9 60  1  0\n 12 61  1  0\n 12 62  1  0\n 12 63  1  0\n 15 64  1  0\n 19 65  1  0\n 20 66  1  0\n 21 67  1  0\n 22 68  1  0\n 22 69  1  0\n 25 70  1  0\n 25 71  1  0\n 25 72  1  0\n 28 73  1  0\n 31 74  1  0\n 32 75  1  0\n 33 76  1  0\n 34 77  1  0\n 35 78  1  0\n 35 79  1  0\n 36 80  1  0\n 38 81  1  0\n 38 82  1  0\n 38 83  1  0\n 41 84  1  0\n 44 85  1  0\n 45 86  1  0\n 46 87  1  0\n 47 88  1  0\n 48 89  1  0\n 48 90  1  0\n 49 91  1  0\n 51 92  1  0\n 51 93  1  0\n 51 94  1  0\n 53 95  1  0\nM  RAD  2  39   2  52   2\nM  END\n\n"
     ]
    }
   ],
   "source": [
    "print(Chem.MolToMolBlock(mol))"
   ]
  },
  {
   "cell_type": "code",
   "execution_count": 5,
   "metadata": {},
   "outputs": [
    {
     "output_type": "stream",
     "name": "stdout",
     "text": [
      "[('AtomCoordsTypeGraphObsMixin', <class 'torsionnet.environments.environment_components.obs_mixins.AtomCoordsTypeGraphObsMixin'>), ('ConformerEnv', <class 'torsionnet.environments.conformer_env.ConformerEnv'>), ('ContinuousActionMixin', <class 'torsionnet.environments.environment_components.action_mixins.ContinuousActionMixin'>), ('DiscreteActionEnv', <class 'torsionnet.environments.environments.DiscreteActionEnv'>), ('DiscreteActionMixin', <class 'torsionnet.environments.environment_components.action_mixins.DiscreteActionMixin'>), ('GibbsEndPruningRewardMixin', <class 'torsionnet.environments.environment_components.reward_mixins.GibbsEndPruningRewardMixin'>), ('GibbsLogPruningRewardMixin', <class 'torsionnet.environments.environment_components.reward_mixins.GibbsLogPruningRewardMixin'>), ('GibbsPruningRewardMixin', <class 'torsionnet.environments.environment_components.reward_mixins.GibbsPruningRewardMixin'>), ('GibbsRewardMixin', <class 'torsionnet.environments.environment_components.reward_mixins.GibbsRewardMixin'>), ('GibbsScoreEndPruningEnv', <class 'torsionnet.environments.environments.GibbsScoreEndPruningEnv'>), ('GibbsScoreEnv', <class 'torsionnet.environments.environments.GibbsScoreEnv'>), ('GibbsScoreLogPruningEnv', <class 'torsionnet.environments.environments.GibbsScoreLogPruningEnv'>), ('GibbsScorePruningEnv', <class 'torsionnet.environments.environments.GibbsScorePruningEnv'>), ('GraphObsMixin', <class 'torsionnet.environments.environment_components.obs_mixins.GraphObsMixin'>)]\n"
     ]
    }
   ],
   "source": [
    "from torsionnet.environments import environments\n",
    "import inspect\n",
    "import sys\n",
    "clsmembers = inspect.getmembers(sys.modules[environments.__name__], inspect.isclass)\n",
    "print(clsmembers)"
   ]
  },
  {
   "cell_type": "code",
   "execution_count": 4,
   "metadata": {},
   "outputs": [
    {
     "output_type": "stream",
     "name": "stdout",
     "text": [
      "torsionnet.environments.environments\n"
     ]
    }
   ],
   "source": [
    "print(environments.__name__)"
   ]
  },
  {
   "cell_type": "code",
   "execution_count": 8,
   "metadata": {},
   "outputs": [
    {
     "output_type": "execute_result",
     "data": {
      "text/plain": [
       "['DiscreteActionEnv',\n",
       " 'GibbsScoreEndPruningEnv',\n",
       " 'GibbsScoreEnv',\n",
       " 'GibbsScoreLogPruningEnv',\n",
       " 'GibbsScorePruningEnv']"
      ]
     },
     "metadata": {},
     "execution_count": 8
    }
   ],
   "source": [
    "[m[0] for m in inspect.getmembers(environments, inspect.isclass) if m[1].__module__ == 'torsionnet.environments.environments']"
   ]
  },
  {
   "cell_type": "code",
   "execution_count": null,
   "metadata": {},
   "outputs": [],
   "source": []
  }
 ]
}