{
 "metadata": {
  "language_info": {
   "codemirror_mode": {
    "name": "ipython",
    "version": 3
   },
   "file_extension": ".py",
   "mimetype": "text/x-python",
   "name": "python",
   "nbconvert_exporter": "python",
   "pygments_lexer": "ipython3",
   "version": "3.9.4"
  },
  "orig_nbformat": 2,
  "kernelspec": {
   "name": "python394jvsc74a57bd0382ecb2c07aded4fa5930e1d83bd6ed9d29b6dd068b691cf6f0bbbd0d322f220",
   "display_name": "Python 3.9.4 64-bit ('test': conda)"
  },
  "metadata": {
   "interpreter": {
    "hash": "382ecb2c07aded4fa5930e1d83bd6ed9d29b6dd068b691cf6f0bbbd0d322f220"
   }
  }
 },
 "nbformat": 4,
 "nbformat_minor": 2,
 "cells": [
  {
   "cell_type": "code",
   "execution_count": 1,
   "metadata": {},
   "outputs": [
    {
     "output_type": "stream",
     "name": "stdout",
     "text": [
      "{'mol': <rdkit.Chem.rdchem.Mol object at 0x7fe85eb0def0>, 'total_rewards': 0.011531329727780149, 'step_data': {'energy': [15.104410072191932, 18.806845471901774, 11.406416810553495, 11.69872222595068, 10.433027741859702, 15.39647922678778, 12.055724282116902, 17.905339753781185, 15.383393607889293, 11.98102982450302, 16.446259295724186, 16.23902919987702, 15.029358203318942, 15.50581459436092, 11.727535103888838, 14.839740680098751, 15.475309212445186, 15.09708842496733, 15.394525748549398, 14.853853554169632], 'reward': [4.410036377356645e-05, 1.0832192327244795e-06, 0.001787461315239399, 0.0013339808872053704, 0.004736327683169543, 3.291985001692421e-05, 0.0009331126786717801, 2.6709661194897205e-06, 3.335394021221523e-05, 0.001005563179118216, 1.1509060470751495e-05, 1.4162447291347913e-05, 4.754149529190288e-05, 2.9506763749402587e-05, 0.0012960521964785546, 5.747960408956053e-05, 3.0421775171502602e-05, 4.4424795773817874e-05, 3.2984292351103187e-05]}}\n"
     ]
    }
   ],
   "source": [
    "import pickle\n",
    "filename = 'data/env_data/example1_29-05-2021_10:19:53/agent_step_0/ep_0/data.pickle'\n",
    "infile = open(filename, 'rb')\n",
    "data = pickle.load(infile)\n",
    "infile.close()\n",
    "\n",
    "print(data)"
   ]
  },
  {
   "cell_type": "code",
   "execution_count": null,
   "metadata": {},
   "outputs": [],
   "source": []
  }
 ]
}