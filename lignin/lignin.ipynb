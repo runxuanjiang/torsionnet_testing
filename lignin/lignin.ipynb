{
 "metadata": {
  "language_info": {
   "codemirror_mode": {
    "name": "ipython",
    "version": 3
   },
   "file_extension": ".py",
   "mimetype": "text/x-python",
   "name": "python",
   "nbconvert_exporter": "python",
   "pygments_lexer": "ipython3",
   "version": "3.7.9"
  },
  "orig_nbformat": 2,
  "kernelspec": {
   "name": "python379jvsc74a57bd0448f1cff2c1a6358527c186aa65f40ee81f4f02b82976e4971c95d3b3e5e62de",
   "display_name": "Python 3.7.9 64-bit ('my-rdkit-env': conda)"
  },
  "metadata": {
   "interpreter": {
    "hash": "448f1cff2c1a6358527c186aa65f40ee81f4f02b82976e4971c95d3b3e5e62de"
   }
  }
 },
 "nbformat": 4,
 "nbformat_minor": 2,
 "cells": [
  {
   "cell_type": "code",
   "execution_count": 2,
   "metadata": {},
   "outputs": [],
   "source": [
    "import rdkit.Chem.AllChem as Chem\n",
    "lignin = Chem.MolFromMolFile('8_0.mol')\n",
    "lignin = Chem.AddHs(lignin)"
   ]
  },
  {
   "cell_type": "code",
   "execution_count": 8,
   "metadata": {},
   "outputs": [
    {
     "output_type": "execute_result",
     "data": {
      "text/plain": [
       "<rdkit.rdBase._vecti at 0x2b9c6a9b7f30>"
      ]
     },
     "metadata": {},
     "execution_count": 8
    }
   ],
   "source": [
    "from torsionnet.utils import get_conformer_energies\n",
    "Chem.EmbedMultipleConfs(lignin, numConfs=20, useRandomCoords=True)\n"
   ]
  },
  {
   "cell_type": "code",
   "execution_count": 11,
   "metadata": {},
   "outputs": [
    {
     "output_type": "stream",
     "name": "stdout",
     "text": [
      "[ 516.09982459  834.66293868  856.93262391  794.54379682  851.58313254\n  876.80273553  961.1023745   939.92040359  827.32788275  816.24037039\n  813.26959083 1196.16561664  803.93362788  871.2601868   847.62831532\n  866.66575271  815.22952112  827.83709261 1398.88913089 1195.75315562]\n516.099824589228\n"
     ]
    }
   ],
   "source": [
    "Chem.MMFFOptimizeMolecule(lignin)\n",
    "energies = get_conformer_energies(lignin)\n",
    "print(energies)\n",
    "print(min(energies))"
   ]
  },
  {
   "cell_type": "code",
   "execution_count": 9,
   "metadata": {},
   "outputs": [
    {
     "output_type": "stream",
     "name": "stdout",
     "text": [
      "20\n"
     ]
    }
   ],
   "source": []
  },
  {
   "cell_type": "code",
   "execution_count": null,
   "metadata": {},
   "outputs": [],
   "source": []
  }
 ]
}